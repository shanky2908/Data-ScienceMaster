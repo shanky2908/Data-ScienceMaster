{
 "cells": [
  {
   "cell_type": "markdown",
   "id": "c5f548ca-b8c5-4f28-9443-bd6af61fea2b",
   "metadata": {},
   "source": [
    "# Pandas Basic Assignment 23rd Feb"
   ]
  },
  {
   "cell_type": "markdown",
   "id": "a359e552-def0-4882-8772-dad5d67bae81",
   "metadata": {},
   "source": [
    "### Q1. Create a Pandas Series that contains the following data: 4, 8, 15, 16, 23, and 42. Then, print the series."
   ]
  },
  {
   "cell_type": "code",
   "execution_count": 1,
   "id": "f310e895-f587-4f83-b3d5-90a419eb8e09",
   "metadata": {},
   "outputs": [],
   "source": [
    "import pandas as pd"
   ]
  },
  {
   "cell_type": "code",
   "execution_count": 2,
   "id": "753e20b0-54da-4dd6-a661-5ecc9d889dc5",
   "metadata": {},
   "outputs": [],
   "source": [
    "a = [4,8,15,16,23,42]"
   ]
  },
  {
   "cell_type": "code",
   "execution_count": 3,
   "id": "844b2467-93f1-4534-890a-5fc210c563b4",
   "metadata": {},
   "outputs": [
    {
     "data": {
      "text/plain": [
       "0     4\n",
       "1     8\n",
       "2    15\n",
       "3    16\n",
       "4    23\n",
       "5    42\n",
       "dtype: int64"
      ]
     },
     "execution_count": 3,
     "metadata": {},
     "output_type": "execute_result"
    }
   ],
   "source": [
    "pd.Series(a)"
   ]
  },
  {
   "cell_type": "code",
   "execution_count": 4,
   "id": "ec9005d4-3c3b-470f-9c01-6ae6713501aa",
   "metadata": {},
   "outputs": [],
   "source": [
    "vr = pd.Series(a)"
   ]
  },
  {
   "cell_type": "code",
   "execution_count": 6,
   "id": "ed0e63c3-e9e8-4854-b76f-17fea3b6fa74",
   "metadata": {},
   "outputs": [
    {
     "name": "stdout",
     "output_type": "stream",
     "text": [
      "0     4\n",
      "1     8\n",
      "2    15\n",
      "3    16\n",
      "4    23\n",
      "5    42\n",
      "dtype: int64\n"
     ]
    }
   ],
   "source": [
    "print(vr)"
   ]
  },
  {
   "cell_type": "markdown",
   "id": "8088f49e-0628-4963-a0f6-4961fd6a6be4",
   "metadata": {},
   "source": [
    "### Q2. Create a variable of list type containing 10 elements in it, and apply pandas.Series function on the variable print it.\n"
   ]
  },
  {
   "cell_type": "code",
   "execution_count": 7,
   "id": "6d588fef-9aa3-4367-92a4-a405bf0a29cb",
   "metadata": {},
   "outputs": [],
   "source": [
    "b = [4,8,15,16,23,42,34,23,'sdff',34]"
   ]
  },
  {
   "cell_type": "code",
   "execution_count": 9,
   "id": "652a7ba9-50a5-40e8-a5f6-355f0733df76",
   "metadata": {},
   "outputs": [],
   "source": [
    "vr1 = pd.Series(b)"
   ]
  },
  {
   "cell_type": "code",
   "execution_count": 10,
   "id": "d2d76055-757d-4c1a-81ba-18e391a6ca3c",
   "metadata": {},
   "outputs": [
    {
     "data": {
      "text/plain": [
       "0       4\n",
       "1       8\n",
       "2      15\n",
       "3      16\n",
       "4      23\n",
       "5      42\n",
       "6      34\n",
       "7      23\n",
       "8    sdff\n",
       "9      34\n",
       "dtype: object"
      ]
     },
     "execution_count": 10,
     "metadata": {},
     "output_type": "execute_result"
    }
   ],
   "source": [
    "vr1"
   ]
  },
  {
   "cell_type": "markdown",
   "id": "e5d5a860-8d27-4489-8bb4-e25d994b6e1f",
   "metadata": {},
   "source": [
    "### Q3. Create a Pandas DataFrame that contains the following data:"
   ]
  },
  {
   "cell_type": "code",
   "execution_count": 14,
   "id": "91a12a70-3db6-4ed4-98d7-b7eafc147fe0",
   "metadata": {},
   "outputs": [],
   "source": [
    "table = {\n",
    "          'Name': ['Alice', 'Bob', 'Claire'],\n",
    "          'Age': [25,30,27],\n",
    "          'Gender': ['female', 'male', 'female']\n",
    "        }"
   ]
  },
  {
   "cell_type": "code",
   "execution_count": 15,
   "id": "d0e74d91-16f2-4dc7-bad6-7bd9cc5f4a9d",
   "metadata": {},
   "outputs": [],
   "source": [
    "vr2 = pd.DataFrame(table)"
   ]
  },
  {
   "cell_type": "code",
   "execution_count": 16,
   "id": "28b8a02b-766d-4bdb-91e1-62644199b092",
   "metadata": {},
   "outputs": [
    {
     "data": {
      "text/html": [
       "<div>\n",
       "<style scoped>\n",
       "    .dataframe tbody tr th:only-of-type {\n",
       "        vertical-align: middle;\n",
       "    }\n",
       "\n",
       "    .dataframe tbody tr th {\n",
       "        vertical-align: top;\n",
       "    }\n",
       "\n",
       "    .dataframe thead th {\n",
       "        text-align: right;\n",
       "    }\n",
       "</style>\n",
       "<table border=\"1\" class=\"dataframe\">\n",
       "  <thead>\n",
       "    <tr style=\"text-align: right;\">\n",
       "      <th></th>\n",
       "      <th>Name</th>\n",
       "      <th>Age</th>\n",
       "      <th>Gender</th>\n",
       "    </tr>\n",
       "  </thead>\n",
       "  <tbody>\n",
       "    <tr>\n",
       "      <th>0</th>\n",
       "      <td>Alice</td>\n",
       "      <td>25</td>\n",
       "      <td>female</td>\n",
       "    </tr>\n",
       "    <tr>\n",
       "      <th>1</th>\n",
       "      <td>Bob</td>\n",
       "      <td>30</td>\n",
       "      <td>male</td>\n",
       "    </tr>\n",
       "    <tr>\n",
       "      <th>2</th>\n",
       "      <td>Claire</td>\n",
       "      <td>27</td>\n",
       "      <td>female</td>\n",
       "    </tr>\n",
       "  </tbody>\n",
       "</table>\n",
       "</div>"
      ],
      "text/plain": [
       "     Name  Age  Gender\n",
       "0   Alice   25  female\n",
       "1     Bob   30    male\n",
       "2  Claire   27  female"
      ]
     },
     "execution_count": 16,
     "metadata": {},
     "output_type": "execute_result"
    }
   ],
   "source": [
    "vr2"
   ]
  },
  {
   "cell_type": "markdown",
   "id": "a3802f20-f919-4263-9806-ff62d039f06e",
   "metadata": {},
   "source": [
    "### Q4. What is ‘DataFrame’ in pandas and how is it different from pandas.series? Explain with an example."
   ]
  },
  {
   "cell_type": "markdown",
   "id": "4e9c91bf-3afe-4d5e-8357-4ac251b8afb0",
   "metadata": {},
   "source": [
    "ans. DataFrame in pandas is 2 dimensional data structure like 2D array but series is like one dimesion array holding any data type in a column with index."
   ]
  },
  {
   "cell_type": "markdown",
   "id": "d9481b7a-3596-4ea0-a7d5-79f621e6b399",
   "metadata": {},
   "source": [
    "for example in Q1, created one series which contains only value in 1 dimesional but in Q2 created one 2D array containing both row and column value"
   ]
  },
  {
   "cell_type": "markdown",
   "id": "47d9707a-2fab-4ffc-b54d-e46e9db9a06b",
   "metadata": {},
   "source": [
    "### Q5. What are some common functions you can use to manipulate data in a Pandas DataFrame? Can you give an example of when you might use one of these functions?\n"
   ]
  },
  {
   "cell_type": "markdown",
   "id": "57ffdb58-55f7-45b7-b1d7-89c59ede60b1",
   "metadata": {},
   "source": [
    "ans. pd.read_csv, pd.read_excel, df.columns, df.drop(), .len(df), df[‘’].dtypes many more the common function we can use to manipulate the data"
   ]
  },
  {
   "cell_type": "markdown",
   "id": "68973285-687d-4991-9308-cf510263d0d1",
   "metadata": {},
   "source": [
    "to read the file we use pd.read_excel or pd.read_cv"
   ]
  },
  {
   "cell_type": "markdown",
   "id": "750784f5-ba0d-4322-ba7e-d5e160474948",
   "metadata": {},
   "source": [
    "### Q6. Which of the following is mutable in nature Series, DataFrame, Panel?"
   ]
  },
  {
   "cell_type": "markdown",
   "id": "dc7f7510-f4e5-4eae-8cfd-7631887b2cd4",
   "metadata": {},
   "source": [
    "DataFrame"
   ]
  },
  {
   "cell_type": "markdown",
   "id": "89e25324-3e3f-4b3f-84bf-2df5b9d7efcd",
   "metadata": {},
   "source": [
    "### Q7. Create a DataFrame using multiple Series. Explain with an example."
   ]
  },
  {
   "cell_type": "code",
   "execution_count": 1,
   "id": "3522175f-3410-4dc3-a98a-b68615ac4d4f",
   "metadata": {},
   "outputs": [],
   "source": [
    "import pandas as pd"
   ]
  },
  {
   "cell_type": "code",
   "execution_count": 9,
   "id": "700d3b10-6945-449a-9dcc-837bfbfb5bb1",
   "metadata": {},
   "outputs": [],
   "source": [
    "Name = pd.Series(['Shashank', 'Shivam', 'Sonal'], name='Name')\n",
    "Class = pd.Series([10,11,12], name='Class')\n",
    "Roll = pd.Series([123,143,234], name='Roll')\n",
    "df=pd.concat([Name,Class,Roll], axis=1)"
   ]
  },
  {
   "cell_type": "code",
   "execution_count": 10,
   "id": "aad2198c-cc1a-4f3c-85b7-c80525975242",
   "metadata": {},
   "outputs": [
    {
     "data": {
      "text/html": [
       "<div>\n",
       "<style scoped>\n",
       "    .dataframe tbody tr th:only-of-type {\n",
       "        vertical-align: middle;\n",
       "    }\n",
       "\n",
       "    .dataframe tbody tr th {\n",
       "        vertical-align: top;\n",
       "    }\n",
       "\n",
       "    .dataframe thead th {\n",
       "        text-align: right;\n",
       "    }\n",
       "</style>\n",
       "<table border=\"1\" class=\"dataframe\">\n",
       "  <thead>\n",
       "    <tr style=\"text-align: right;\">\n",
       "      <th></th>\n",
       "      <th>Name</th>\n",
       "      <th>Class</th>\n",
       "      <th>Roll</th>\n",
       "    </tr>\n",
       "  </thead>\n",
       "  <tbody>\n",
       "    <tr>\n",
       "      <th>0</th>\n",
       "      <td>Shashank</td>\n",
       "      <td>10</td>\n",
       "      <td>123</td>\n",
       "    </tr>\n",
       "    <tr>\n",
       "      <th>1</th>\n",
       "      <td>Shivam</td>\n",
       "      <td>11</td>\n",
       "      <td>143</td>\n",
       "    </tr>\n",
       "    <tr>\n",
       "      <th>2</th>\n",
       "      <td>Sonal</td>\n",
       "      <td>12</td>\n",
       "      <td>234</td>\n",
       "    </tr>\n",
       "  </tbody>\n",
       "</table>\n",
       "</div>"
      ],
      "text/plain": [
       "       Name  Class  Roll\n",
       "0  Shashank     10   123\n",
       "1    Shivam     11   143\n",
       "2     Sonal     12   234"
      ]
     },
     "execution_count": 10,
     "metadata": {},
     "output_type": "execute_result"
    }
   ],
   "source": [
    "df"
   ]
  },
  {
   "cell_type": "code",
   "execution_count": null,
   "id": "9e1f70f6-fe2c-4590-92e5-635a23790cf0",
   "metadata": {},
   "outputs": [],
   "source": []
  }
 ],
 "metadata": {
  "kernelspec": {
   "display_name": "Python 3 (ipykernel)",
   "language": "python",
   "name": "python3"
  },
  "language_info": {
   "codemirror_mode": {
    "name": "ipython",
    "version": 3
   },
   "file_extension": ".py",
   "mimetype": "text/x-python",
   "name": "python",
   "nbconvert_exporter": "python",
   "pygments_lexer": "ipython3",
   "version": "3.10.8"
  }
 },
 "nbformat": 4,
 "nbformat_minor": 5
}
