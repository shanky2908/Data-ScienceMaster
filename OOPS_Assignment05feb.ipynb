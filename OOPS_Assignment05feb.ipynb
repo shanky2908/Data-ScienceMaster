{
 "cells": [
  {
   "cell_type": "markdown",
   "id": "7ddf6956-ad4a-41cd-b0ce-5d06b96523d8",
   "metadata": {},
   "source": [
    "   Assignment OOPS 05 feb"
   ]
  },
  {
   "cell_type": "markdown",
   "id": "0341e6d2-9f0a-427e-8247-3ef9a54321f8",
   "metadata": {},
   "source": [
    "## Q1. Explain Class and Object with respect to Object-Oriented Programming. Give a suitable example."
   ]
  },
  {
   "cell_type": "markdown",
   "id": "b9dcd699-6ff1-4a13-8ba0-25a5573d8a86",
   "metadata": {},
   "source": [
    "ans. A class is user defined bluprint from which object is created\n",
    "     classes can be created using keyword class\n",
    "     exa\n",
    "        class Dog:\n",
    "            pass"
   ]
  },
  {
   "cell_type": "markdown",
   "id": "b1c9497d-c26d-4817-b990-c8e554d79a98",
   "metadata": {},
   "source": [
    "     An object is an instance of a class"
   ]
  },
  {
   "cell_type": "markdown",
   "id": "b0634cd4-1844-40ce-8153-bd7833edfb73",
   "metadata": {},
   "source": [
    "exa. car is an example of class but its object consists of state, behaviour and properties exa. hatchback"
   ]
  },
  {
   "cell_type": "markdown",
   "id": "5afc5e18-89d9-4776-9215-7120d5a56d35",
   "metadata": {},
   "source": [
    "## Q2. Name the four pillars of OOPs."
   ]
  },
  {
   "cell_type": "markdown",
   "id": "0452a120-c161-4ae1-9c85-170cfd728a24",
   "metadata": {},
   "source": [
    "ans. Abstraction, Inheritance, polymorphism and encapsulation"
   ]
  },
  {
   "cell_type": "markdown",
   "id": "b3179ffd-c8e2-48c8-8fad-8a02c4b1b980",
   "metadata": {},
   "source": [
    " ## Q3. Explain why the _ _init_ _() function is used. Give a suitable example."
   ]
  },
  {
   "cell_type": "markdown",
   "id": "7f999521-f720-4de1-910a-f7d2c70afb29",
   "metadata": {},
   "source": [
    "ans. __init__ method is like custructors of Java. Constructors is used to inialize the object's state and it also contains instruction which get executed ate the time of object creation. It runs as soon as object of the class is initialiated."
   ]
  },
  {
   "cell_type": "markdown",
   "id": "740b47cf-a858-4bcc-adc8-d86596e4b939",
   "metadata": {},
   "source": [
    "## Q4. Why self is used in OOPs?"
   ]
  },
  {
   "cell_type": "markdown",
   "id": "5692e959-94d5-4793-800e-5c5e38eaf095",
   "metadata": {},
   "source": [
    "ans. Self is the first parameter of the the class method argument. We donot give value for the argument. This is same as This refrence in Java."
   ]
  },
  {
   "cell_type": "markdown",
   "id": "8980d360-a2fc-4f4d-abcd-09a5571d98f6",
   "metadata": {},
   "source": [
    "## Q5. What is inheritance? Give an example for each type of inheritance."
   ]
  },
  {
   "cell_type": "markdown",
   "id": "b330c911-0e34-49b5-8e78-f95bf2f4ed71",
   "metadata": {},
   "source": [
    "ans. Inheritance allow us to inherit the properties and methods of another class it consistst of parent class and child class"
   ]
  },
  {
   "cell_type": "markdown",
   "id": "c44ebb21-9bc2-4984-8b3a-0c29c4853600",
   "metadata": {},
   "source": [
    "Single inheritance - It enables to derived the properties from single parent class so it enables to code reusability and add more properties to existing class"
   ]
  },
  {
   "cell_type": "code",
   "execution_count": 1,
   "id": "c84675f7-6b77-4cb5-90e5-17db103bcd84",
   "metadata": {},
   "outputs": [
    {
     "name": "stdout",
     "output_type": "stream",
     "text": [
      "properties of parent claa\n",
      "properties of child class\n"
     ]
    }
   ],
   "source": [
    "class parent:\n",
    "    def abc(self):\n",
    "        print(\"properties of parent claa\")\n",
    "        \n",
    "class child(parent):\n",
    "    def efg(self):\n",
    "        print(\"properties of child class\")\n",
    "        \n",
    "object = child()\n",
    "object.abc()\n",
    "object.efg()\n",
    "        "
   ]
  },
  {
   "cell_type": "markdown",
   "id": "f033b84d-347e-4b01-a50d-88be7ae4ce7e",
   "metadata": {},
   "source": [
    "Mutiple inheritance - when a class can be derived from more than one class i.e., called multiple inheritance"
   ]
  },
  {
   "cell_type": "code",
   "execution_count": 6,
   "id": "ea19f7b4-e81a-4f5f-8e5e-96da04c2144f",
   "metadata": {},
   "outputs": [
    {
     "name": "stdout",
     "output_type": "stream",
     "text": [
      "father: Shashank\n",
      "mother: Priyanka\n"
     ]
    }
   ],
   "source": [
    "class father:\n",
    "    \n",
    "    def father(self):\n",
    "        print(self.fathername)\n",
    "        \n",
    "class mother:\n",
    "    \n",
    "    def mother(self):\n",
    "        print(self.mothername)\n",
    "        \n",
    "class son(father, mother):\n",
    "    def parents(self):\n",
    "        print(\"father:\", self.fathername)\n",
    "        print(\"mother:\", self.mothername)\n",
    "        \n",
    "s1= son()\n",
    "s1.fathername = \"Shashank\"\n",
    "s1.mothername = \"Priyanka\"\n",
    "s1.parents()"
   ]
  },
  {
   "cell_type": "markdown",
   "id": "e8f79160-48c9-480f-986a-39d24aa5fd83",
   "metadata": {},
   "source": [
    "Multilevel Inheritance - when features of base class and derived class is further inherited into derived class i.e., called multilevel inheritence"
   ]
  },
  {
   "cell_type": "code",
   "execution_count": 1,
   "id": "d9a28fc9-5fcb-4ab8-a5da-38b3d86310f1",
   "metadata": {},
   "outputs": [
    {
     "name": "stdout",
     "output_type": "stream",
     "text": [
      "grandfathename sonas\n",
      "fatername prem\n",
      "name shashank\n"
     ]
    }
   ],
   "source": [
    "class grandfather:\n",
    "    def __init__(self, grandfathername):\n",
    "        self.grandfathername=grandfathername\n",
    "        \n",
    "class father(grandfather):\n",
    "    def __init__(self, fathername, grandfathername):\n",
    "        self.fathername=fathername\n",
    "        \n",
    "        grandfather.__init__(self, grandfathername)\n",
    "        \n",
    "class son(father):\n",
    "    def __init__(self,sonname, fathername, grandfathername):\n",
    "        self.sonname = sonname\n",
    "        \n",
    "        father.__init__(self, fathername, grandfathername)\n",
    "        \n",
    "    def print_name(self):\n",
    "        print(\"grandfathename\", self.grandfathername)\n",
    "        print(\"fatername\", self.fathername)\n",
    "        print(\"name\", self.sonname)\n",
    "        \n",
    "s1 = son('shashank','prem','sonas')\n",
    "s1.print_name()\n",
    "        \n",
    "        \n",
    "\n",
    "    "
   ]
  },
  {
   "cell_type": "markdown",
   "id": "380b7ef1-6d16-428d-9dd3-05daa75afef6",
   "metadata": {},
   "source": [
    "Heirarchical inheritance - when more than one child class is inherited from a single base class"
   ]
  },
  {
   "cell_type": "code",
   "execution_count": 4,
   "id": "7a303cbb-a9f1-46f8-bfe1-57a93f259cb0",
   "metadata": {},
   "outputs": [
    {
     "name": "stdout",
     "output_type": "stream",
     "text": [
      "this is parent class\n",
      "this is first child\n",
      "this is second child\n",
      "this is parent class\n"
     ]
    }
   ],
   "source": [
    "class parent:\n",
    "    def func1(self):\n",
    "        print(\"this is parent class\")\n",
    "        \n",
    "class child1(parent):\n",
    "    def func2(self):\n",
    "        print(\"this is first child\")\n",
    "        \n",
    "class child2(parent):\n",
    "    def func3(self):\n",
    "        print(\"this is second child\")\n",
    "        \n",
    "obj1 = child1()\n",
    "obj2 = child2()\n",
    "obj1.func1()\n",
    "obj1.func2()\n",
    "obj2.func3()\n",
    "obj2.func1()\n"
   ]
  },
  {
   "cell_type": "code",
   "execution_count": null,
   "id": "0521390f-8fc7-4448-a153-58d81bd1b013",
   "metadata": {},
   "outputs": [],
   "source": []
  }
 ],
 "metadata": {
  "kernelspec": {
   "display_name": "Python 3 (ipykernel)",
   "language": "python",
   "name": "python3"
  },
  "language_info": {
   "codemirror_mode": {
    "name": "ipython",
    "version": 3
   },
   "file_extension": ".py",
   "mimetype": "text/x-python",
   "name": "python",
   "nbconvert_exporter": "python",
   "pygments_lexer": "ipython3",
   "version": "3.10.8"
  }
 },
 "nbformat": 4,
 "nbformat_minor": 5
}
