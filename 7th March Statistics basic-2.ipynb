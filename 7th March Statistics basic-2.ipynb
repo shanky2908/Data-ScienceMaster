{
 "cells": [
  {
   "cell_type": "markdown",
   "id": "20b70258-6893-4d91-81cc-88e117943c73",
   "metadata": {},
   "source": [
    "# Statistics Basic-2 Assignment"
   ]
  },
  {
   "cell_type": "markdown",
   "id": "9577207d-ed6e-44cb-b84f-d405599b3045",
   "metadata": {},
   "source": [
    "#### Q1. What are the three measures of central tendency?"
   ]
  },
  {
   "cell_type": "markdown",
   "id": "01be7297-c2b7-40dc-b54e-08548afdd315",
   "metadata": {},
   "source": [
    "ans. Mean, Median and MOde"
   ]
  },
  {
   "cell_type": "markdown",
   "id": "bc5870dd-a2f8-4aeb-beb0-5f9267dbe909",
   "metadata": {},
   "source": [
    "#### Q2. What is the difference between the mean, median, and mode? How are they used to measure the central tendency of a dataset?\n"
   ]
  },
  {
   "cell_type": "markdown",
   "id": "8c5e013e-b731-489d-8fa9-429168c6a2d4",
   "metadata": {},
   "source": [
    "ans. Mean is the average value of the given observations. Median is the middle value of the given observations. Mode is the most repeated value in the given observation "
   ]
  },
  {
   "cell_type": "markdown",
   "id": "9e41ba37-6de6-4152-95ba-56e9fb1a9d48",
   "metadata": {},
   "source": [
    "These statistics indicate where most values in a distribution fall and are also referred to as the central location of a distribution. Central tendency is the propensity for data points to cluster around a middle value."
   ]
  },
  {
   "cell_type": "markdown",
   "id": "d97c8102-6c23-4ec2-9bdb-f0262fef6211",
   "metadata": {},
   "source": [
    "#### Q3. Measure the three measures of central tendency for the given height data:\n",
    "\n",
    " [178,177,176,177,178.2,178,175,179,180,175,178.9,176.2,177,172.5,178,176.5]"
   ]
  },
  {
   "cell_type": "code",
   "execution_count": 1,
   "id": "a5b1e6fb-cad1-4985-b407-7a32b9f6df0e",
   "metadata": {},
   "outputs": [],
   "source": [
    "import numpy as np"
   ]
  },
  {
   "cell_type": "code",
   "execution_count": 2,
   "id": "bb45322d-2d4d-4c62-92fc-73b7a4f5623e",
   "metadata": {},
   "outputs": [],
   "source": [
    "arr = [178,177,176,177,178.2,178,175,179,180,175,178.9,176.2,177,172.5,178,176.5]"
   ]
  },
  {
   "cell_type": "code",
   "execution_count": 4,
   "id": "e9fc743a-f824-4a62-8e33-b258c6af5594",
   "metadata": {},
   "outputs": [],
   "source": [
    "Mean = np.mean(arr)"
   ]
  },
  {
   "cell_type": "code",
   "execution_count": 5,
   "id": "14e8348a-3de5-4c47-94ac-8acb41edd24d",
   "metadata": {},
   "outputs": [
    {
     "data": {
      "text/plain": [
       "177.01875"
      ]
     },
     "execution_count": 5,
     "metadata": {},
     "output_type": "execute_result"
    }
   ],
   "source": [
    "Mean"
   ]
  },
  {
   "cell_type": "code",
   "execution_count": 6,
   "id": "61991a90-bbd8-4ed4-a5f9-174fcfde86f5",
   "metadata": {},
   "outputs": [],
   "source": [
    "Median = np.median(arr)"
   ]
  },
  {
   "cell_type": "code",
   "execution_count": 7,
   "id": "d672705e-da77-4663-be75-4780f3e12204",
   "metadata": {},
   "outputs": [
    {
     "data": {
      "text/plain": [
       "177.0"
      ]
     },
     "execution_count": 7,
     "metadata": {},
     "output_type": "execute_result"
    }
   ],
   "source": [
    "Median"
   ]
  },
  {
   "cell_type": "code",
   "execution_count": 10,
   "id": "a2a19a06-f508-4760-95ba-6f3898f061d5",
   "metadata": {},
   "outputs": [],
   "source": [
    "import statistics as sts"
   ]
  },
  {
   "cell_type": "code",
   "execution_count": 11,
   "id": "84a5031d-f66d-403e-af86-e53c80c7f578",
   "metadata": {},
   "outputs": [
    {
     "data": {
      "text/plain": [
       "178"
      ]
     },
     "execution_count": 11,
     "metadata": {},
     "output_type": "execute_result"
    }
   ],
   "source": [
    "sts.mode(arr)"
   ]
  },
  {
   "cell_type": "markdown",
   "id": "d2c427a0-c3da-42c2-8af3-e80f0fe43cd1",
   "metadata": {},
   "source": [
    "#### Q4. Find the standard deviation for the above data:"
   ]
  },
  {
   "cell_type": "code",
   "execution_count": 12,
   "id": "12234402-c91b-4b14-852a-718a3fa8d2b9",
   "metadata": {},
   "outputs": [],
   "source": [
    "stdd = np.std(arr)"
   ]
  },
  {
   "cell_type": "code",
   "execution_count": 13,
   "id": "93998893-11a4-4609-9228-cf31ab487a08",
   "metadata": {},
   "outputs": [
    {
     "data": {
      "text/plain": [
       "1.7885814036548633"
      ]
     },
     "execution_count": 13,
     "metadata": {},
     "output_type": "execute_result"
    }
   ],
   "source": [
    "stdd"
   ]
  },
  {
   "cell_type": "markdown",
   "id": "ec94bd59-3fbd-4693-945c-7ec51c331816",
   "metadata": {},
   "source": [
    "#### Q5. How are measures of dispersion such as range, variance, and standard deviation used to describe the spread of a dataset? Provide an example.\n"
   ]
  },
  {
   "cell_type": "markdown",
   "id": "9b09ad4f-509e-4fd7-95bc-0eead14294df",
   "metadata": {},
   "source": [
    "ans. Dispersion is the state of getting dispersed or spread. Statistical dispersion means the extent to which numerical data is likely to vary about an average value. In other words, dispersion helps to understand the distribution of the data."
   ]
  },
  {
   "cell_type": "markdown",
   "id": "338fe53c-c901-4010-bf2f-fa7772c48616",
   "metadata": {},
   "source": [
    "#### Q6. What is a Venn diagram?"
   ]
  },
  {
   "cell_type": "markdown",
   "id": "897de52a-11b8-4bb7-9625-37aba3301986",
   "metadata": {},
   "source": [
    "ans. A Venn diagram is an illustration that uses circles to show the relationships among things or finite groups of things"
   ]
  },
  {
   "cell_type": "markdown",
   "id": "3f9c02cc-7f95-487a-ba6c-0aac85311def",
   "metadata": {},
   "source": [
    "#### Q7. For the two given sets A = (2,3,4,5,6,7) & B = (0,2,6,8,10). Find:\n",
    "\n",
    "(i) \tA  intersection B\n",
    "\n",
    "(ii)\tA ⋃ B"
   ]
  },
  {
   "cell_type": "markdown",
   "id": "15607178-b59d-4506-a44c-b557f9f34816",
   "metadata": {},
   "source": [
    "ans. (i) 2,6\n",
    "    (ii) 0,2,3,4,5,6,7,8,10"
   ]
  },
  {
   "cell_type": "markdown",
   "id": "489b0a28-3eca-4001-a164-4649391f1dfe",
   "metadata": {},
   "source": [
    "#### Q8. What do you understand about skewness in data?"
   ]
  },
  {
   "cell_type": "markdown",
   "id": "a3c94b29-76ad-4fb0-beff-f51387b15a90",
   "metadata": {},
   "source": [
    "ans. Skewness is a measurement of the distortion of symmetrical distribution or asymmetry in a data set. Skewness is demonstrated on a bell curve when data points are not distributed symmetrically to the left and right sides of the median on a bell curve"
   ]
  },
  {
   "cell_type": "markdown",
   "id": "ae261fa7-b889-44de-93e5-d7f1e01e92d7",
   "metadata": {},
   "source": [
    "#### Q9. If a data is right skewed then what will be the position of median with respect to mean?"
   ]
  },
  {
   "cell_type": "markdown",
   "id": "268ff227-15f2-4eaf-9d59-72d50aed6a82",
   "metadata": {},
   "source": [
    "ans. mean>median"
   ]
  },
  {
   "cell_type": "markdown",
   "id": "fedf55d3-7d3b-47b1-81e0-a28c543f0abc",
   "metadata": {},
   "source": [
    "#### Q10. Explain the difference between covariance and correlation. How are these measures used in statistical analysis?\n"
   ]
  },
  {
   "cell_type": "markdown",
   "id": "dc58c8db-198e-4286-9b23-7e00b920923d",
   "metadata": {},
   "source": [
    "ans. Covariance and Correlation are two terms that are exactly opposite to each other. However, they both are used in statistics and regression analysis. Covariance shows us how the two variables vary, whereas Correlation shows us the relationship and how they are related"
   ]
  },
  {
   "cell_type": "markdown",
   "id": "3d3743f7-a1a7-497e-86fd-5fd0e3cf8589",
   "metadata": {},
   "source": [
    "Covariance is a quantitative measure of the degree to which the deviation of one variable (X) from its mean is related to the deviation of another variable (Y) from its mean"
   ]
  },
  {
   "cell_type": "markdown",
   "id": "de10647d-7da1-4113-b938-9c8fea8488a6",
   "metadata": {},
   "source": [
    "Correlation tells us both the strength and the direction of this relationship. Correlation is best used for multiple variables that express a linear relationship with one another"
   ]
  },
  {
   "cell_type": "markdown",
   "id": "347e5e3d-e4fa-4e02-ae1f-97a17b70d348",
   "metadata": {},
   "source": [
    "#### Q11. What is the formula for calculating the sample mean? Provide an example calculation for a dataset.\n"
   ]
  },
  {
   "cell_type": "markdown",
   "id": "27f7766c-f44a-40f2-abba-2fe52e443fb8",
   "metadata": {},
   "source": [
    "ans.  x̄= (xi)/n"
   ]
  },
  {
   "cell_type": "markdown",
   "id": "7d4ccef3-1b11-4368-9470-aec2c5058680",
   "metadata": {},
   "source": [
    " The teacher uses the sum of 616 to find the average score. He divides 616 by seven since the number of scores in his data set was seven. The resulting sample mean is 88"
   ]
  },
  {
   "cell_type": "markdown",
   "id": "84ce3214-4f45-472b-9a3d-c52344df45a2",
   "metadata": {},
   "source": [
    "#### Q12. For a normal distribution data what is the relationship between its measure of central tendency?"
   ]
  },
  {
   "cell_type": "markdown",
   "id": "57044333-3fae-4a50-ba0c-eb8d2281e8b9",
   "metadata": {},
   "source": [
    "ans. Normal distribution, also known as the Gaussian distribution, is a probability distribution that is symmetric about the mean, showing that data near the mean are more frequent in occurrence than data far from the mean."
   ]
  },
  {
   "cell_type": "markdown",
   "id": "5a082db9-bac3-42f5-9165-3c6e2589cf8d",
   "metadata": {},
   "source": [
    "#### Q13. How is covariance different from correlation?"
   ]
  },
  {
   "cell_type": "markdown",
   "id": "a6f6fba8-bc54-4b49-ba0d-fb3306a70664",
   "metadata": {},
   "source": [
    "ans. Covariance shows you how the two variables differ, whereas correlation shows you how the two variables are related"
   ]
  },
  {
   "cell_type": "markdown",
   "id": "f190fe44-3b64-4f0c-ae86-7851718f6638",
   "metadata": {},
   "source": [
    "### Q14. How do outliers affect measures of central tendency and dispersion? Provide an example."
   ]
  },
  {
   "cell_type": "markdown",
   "id": "2c368dfa-5f15-4ec7-8123-f28ff19794bc",
   "metadata": {},
   "source": [
    "ans.  Outliers affect the mean value of the data but have little effect on the median or mode of a given set of data"
   ]
  },
  {
   "cell_type": "code",
   "execution_count": null,
   "id": "c8a385ce-8e0b-4373-8efc-9673b4ea3b02",
   "metadata": {},
   "outputs": [],
   "source": []
  }
 ],
 "metadata": {
  "kernelspec": {
   "display_name": "Python 3 (ipykernel)",
   "language": "python",
   "name": "python3"
  },
  "language_info": {
   "codemirror_mode": {
    "name": "ipython",
    "version": 3
   },
   "file_extension": ".py",
   "mimetype": "text/x-python",
   "name": "python",
   "nbconvert_exporter": "python",
   "pygments_lexer": "ipython3",
   "version": "3.10.8"
  }
 },
 "nbformat": 4,
 "nbformat_minor": 5
}
