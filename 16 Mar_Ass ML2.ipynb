{
 "cells": [
  {
   "cell_type": "markdown",
   "id": "dbed805b-7e6a-4c9b-bb75-ce34366dbef5",
   "metadata": {},
   "source": [
    "# Introduction to Machine Learning-2\n"
   ]
  },
  {
   "cell_type": "markdown",
   "id": "90126ca6-810a-4175-a2e4-23f94f7b5b0d",
   "metadata": {},
   "source": [
    "### Assignment"
   ]
  },
  {
   "cell_type": "markdown",
   "id": "aec83aae-a4fd-40a5-b9db-fadf6733f651",
   "metadata": {},
   "source": [
    "### 1.Define overfitting and underfitting in machine learning. What are the consequences of each, and how can they be mitigated?\n"
   ]
  },
  {
   "cell_type": "markdown",
   "id": "cfd1427b-4022-430d-abcd-5bb0678a4717",
   "metadata": {},
   "source": [
    "ans. Underfit models experience high bias—they give inaccurate results for both the training data and test set. On the other hand, overfit models experience high variance—they give accurate results for the training set but not for the test set.\n",
    "\n",
    "By Regularization we can mitigate"
   ]
  },
  {
   "cell_type": "markdown",
   "id": "9a7f1b93-8033-4ab0-a3d9-f7b57a80522d",
   "metadata": {},
   "source": [
    "### Q2: How can we reduce overfitting? Explain in brief."
   ]
  },
  {
   "cell_type": "markdown",
   "id": "b9b345f1-e706-4576-9d35-34e252755266",
   "metadata": {},
   "source": [
    "ans. Although overfitting is an error in Machine learning which reduces the performance of the model, however, we can prevent it in several ways. With the use of the linear model, we can avoid overfitting; however, many real-world problems are non-linear ones. It is important to prevent overfitting from the models. Below are several ways that can be used to prevent overfitting:\n",
    "\n",
    "Early Stopping\n",
    "Train with more data\n",
    "Feature Selection\n",
    "Cross-Validation\n",
    "Data Augmentation"
   ]
  },
  {
   "cell_type": "markdown",
   "id": "ddf36fbd-b173-4806-af9c-707f1e4d06e3",
   "metadata": {},
   "source": [
    "### Q3: Explain underfitting. List scenarios where underfitting can occur in ML"
   ]
  },
  {
   "cell_type": "markdown",
   "id": "584b7eb0-1cc7-481c-8526-eb1c6fb1061c",
   "metadata": {},
   "source": [
    "ans. When a model has not learned the patterns in the training data well and is unable to generalize well on the new data, it is known as underfitting. An underfit model has poor performance on the training data and will result in unreliable predictions. Underfitting occurs due to high bias and low variance"
   ]
  },
  {
   "cell_type": "markdown",
   "id": "a48eb39d-ef5c-4efe-b744-d3d483e42e1a",
   "metadata": {},
   "source": [
    "Data used for training is not cleaned and contains noise (garbage values) in it,\n",
    "The model has a high bias,\n",
    "The size of the training dataset used is not enough,\n",
    "The model is too simple"
   ]
  },
  {
   "cell_type": "markdown",
   "id": "80675cc4-4a6d-4e4b-91f9-b891cd55096d",
   "metadata": {},
   "source": [
    "### Q4: Explain the bias-variance tradeoff in machine learning. What is the relationship between bias and variance, and how do they affect model performance?\n"
   ]
  },
  {
   "cell_type": "markdown",
   "id": "c97658a0-3258-48db-b253-8a1f53671a73",
   "metadata": {},
   "source": [
    "ans. If the algorithm is too simple (hypothesis with linear equation) then it may be on high bias and low variance condition and thus is error-prone. If algorithms fit too complex (hypothesis with high degree equation) then it may be on high variance and low bias. In the latter condition, the new entries will not perform well. Well, there is something between both of these conditions, known as a Trade-off or Bias Variance Trade-off"
   ]
  },
  {
   "cell_type": "markdown",
   "id": "31908e07-992a-4705-968c-c0f335ead46b",
   "metadata": {},
   "source": [
    " when bias is high, the error in both testing and training set is also high. If we have a high variance, the model performs well on the testing set, we can see that the error is low, but gives high error on the training set"
   ]
  },
  {
   "cell_type": "markdown",
   "id": "ee3d138a-1d60-429b-b2b8-3a4a4180d986",
   "metadata": {},
   "source": [
    "### Q5: Discuss some common methods for detecting overfitting and underfitting in machine learning models.How can you determine whether your model is overfitting or underfitting?\n"
   ]
  },
  {
   "cell_type": "markdown",
   "id": "4839b49e-a573-4fc1-aaba-a215ebe15c8c",
   "metadata": {},
   "source": [
    "ans. We can determine whether a predictive model is underfitting or overfitting the training data by looking at the prediction error on the training data and the evaluation data. Your model is underfitting the training data when the model performs poorly on the training data"
   ]
  },
  {
   "cell_type": "markdown",
   "id": "9689a07d-35af-49e3-9970-65c5409ced4b",
   "metadata": {},
   "source": [
    "### Q6: Compare and contrast bias and variance in machine learning. What are some examples of high bias and high variance models, and how do they differ in terms of their performance?\n"
   ]
  },
  {
   "cell_type": "markdown",
   "id": "b33d0af5-31e1-4598-b645-49ef788eb8be",
   "metadata": {},
   "source": [
    "ans. A linear machine-learning algorithm will exhibit high bias but low variance. On the other hand, a non-linear algorithm will exhibit low bias but high variance"
   ]
  },
  {
   "cell_type": "markdown",
   "id": "7697bdb7-8887-43cd-954e-825e8ff7a4f2",
   "metadata": {},
   "source": [
    "The high-bias model will not be able to capture the dataset trend. It is considered as the underfitting model which has a high error rate. It is due to a very simplified algorithm. For example, a linear regression model may have a high bias if the data has a non-linear relationship"
   ]
  },
  {
   "cell_type": "markdown",
   "id": "12b7c720-0731-46bf-8c57-a9dddceca1c8",
   "metadata": {},
   "source": [
    "### Q7: What is regularization in machine learning, and how can it be used to prevent overfitting? Describe some common regularization techniques and how they work.\n"
   ]
  },
  {
   "cell_type": "markdown",
   "id": "b0100d52-0802-4500-b5b6-cbd1409e7c15",
   "metadata": {},
   "source": [
    "ans. Regularization refers to techniques that are used to calibrate machine learning models in order to minimize the adjusted loss function and prevent overfitting or underfitting. Using Regularization, we can fit our machine learning model appropriately on a given test set and hence reduce the errors in it"
   ]
  },
  {
   "cell_type": "code",
   "execution_count": null,
   "id": "e42213b1-b27e-4663-a013-82dc824d9e19",
   "metadata": {},
   "outputs": [],
   "source": []
  }
 ],
 "metadata": {
  "kernelspec": {
   "display_name": "Python 3 (ipykernel)",
   "language": "python",
   "name": "python3"
  },
  "language_info": {
   "codemirror_mode": {
    "name": "ipython",
    "version": 3
   },
   "file_extension": ".py",
   "mimetype": "text/x-python",
   "name": "python",
   "nbconvert_exporter": "python",
   "pygments_lexer": "ipython3",
   "version": "3.10.8"
  }
 },
 "nbformat": 4,
 "nbformat_minor": 5
}
