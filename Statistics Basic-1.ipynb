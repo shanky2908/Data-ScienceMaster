{
 "cells": [
  {
   "cell_type": "markdown",
   "id": "5d259a8f-50e0-42ab-902b-67b995c1ef66",
   "metadata": {},
   "source": [
    "# Statistics Basic-1 Assignment"
   ]
  },
  {
   "cell_type": "markdown",
   "id": "c9ce7d65-0cc7-4c60-a066-2b1eb4ad4974",
   "metadata": {},
   "source": [
    "#### Q1. What is Statistics?"
   ]
  },
  {
   "cell_type": "markdown",
   "id": "b294678f-a4fb-4bcc-972f-062de0764191",
   "metadata": {},
   "source": [
    "Statistics is the science of collecting, organizing and analyzing the data"
   ]
  },
  {
   "cell_type": "markdown",
   "id": "ad268669-4d18-4816-8dd6-d42eaaae6645",
   "metadata": {},
   "source": [
    "#### Q2. Define the different types of statistics and give an example of when each type might be used."
   ]
  },
  {
   "cell_type": "markdown",
   "id": "2a3c406a-a3db-4339-bf38-15cdfeddfdc2",
   "metadata": {},
   "source": [
    "1. Descriptive statistics - It consists of organizing and summarizing the data like measurement of central tendency, histogram, barchat"
   ]
  },
  {
   "cell_type": "markdown",
   "id": "f518f212-e781-442f-8d20-0a79f5df0ed9",
   "metadata": {},
   "source": [
    "2. Influential statistics - It consists of using the data yoy have measured to form conclusion like finding of heights of students of given class"
   ]
  },
  {
   "cell_type": "markdown",
   "id": "c9c71f10-0c08-4033-ac75-0c8da9abff5d",
   "metadata": {},
   "source": [
    "#### Q3.  What are the different types of data and how do they differ from each other? Provide an example of each type of data.\n"
   ]
  },
  {
   "cell_type": "markdown",
   "id": "18828170-7ed2-4136-b157-4b30b0eca1d8",
   "metadata": {},
   "source": [
    "Data can be differentiated into quantitative and qualitative data"
   ]
  },
  {
   "cell_type": "markdown",
   "id": "b7189b3f-f373-4b8d-bf6a-b5d6953e2859",
   "metadata": {},
   "source": [
    "Quantitative - like numerical data having discrete or continous value exa - no. of child is discrete while weight of children is continous"
   ]
  },
  {
   "cell_type": "markdown",
   "id": "b7ce4213-6345-4ae1-acfe-2fefc6f4d748",
   "metadata": {},
   "source": [
    "Qualitative - like categorical data having nominal or ordinal value exa - gender is nominal data while rank is ordinal"
   ]
  },
  {
   "cell_type": "markdown",
   "id": "8b406f90-367f-46ff-b6de-de683927e857",
   "metadata": {},
   "source": [
    "#### Q4. Categorise the following datasets with respect to quantitative and qualitative data types:\n",
    "\n"
   ]
  },
  {
   "cell_type": "markdown",
   "id": "1ac6c717-e45d-4f33-9de1-24f4bba202f2",
   "metadata": {},
   "source": [
    "(i)\tGrading in exam: A+, A, B+, B, C+, C, D, E  - QUALITATIVE\n",
    "\n",
    "(ii) Colour of mangoes: yellow, green, orange, red - QUALITATIVE\n",
    "\n",
    "(iii) Height data of a class: [178.9, 179, 179.5, 176, 177.2, 178.3, 175.8,...] - QUANTITATIVE\n",
    "\n",
    "(iv) Number of mangoes exported by a farm: [500, 600, 478, 672, …] - QUANTITATIVE"
   ]
  },
  {
   "cell_type": "markdown",
   "id": "cc247b30-420e-415d-94fe-7c31907a4397",
   "metadata": {},
   "source": [
    "#### Q5. Explain the concept of levels of measurement and give an example of a variable for each level."
   ]
  },
  {
   "cell_type": "markdown",
   "id": "c572aad3-74db-4744-b30b-1405073289c7",
   "metadata": {},
   "source": [
    "Levels of measurement, also called scales of measurement, tell you how precisely variables are recorded. In scientific research, a variable is anything that can take on different values across your data set (e.g., height or test scores)."
   ]
  },
  {
   "cell_type": "markdown",
   "id": "71fe49d1-9f42-4657-96cb-c3630fb88cb6",
   "metadata": {},
   "source": [
    "1. Nominal scale data - qualitative or categorial variable exa gender, color"
   ]
  },
  {
   "cell_type": "markdown",
   "id": "bf11f3c8-67ec-4ee7-9750-4bd13ce256a6",
   "metadata": {},
   "source": [
    "2. Ordinal scale data - in which ranking matters exa qualification of group of people"
   ]
  },
  {
   "cell_type": "markdown",
   "id": "4b3e94bb-068e-4aab-8e88-d62b31885837",
   "metadata": {},
   "source": [
    "3. Interval scale data - ranking matters and dfference can be measured like temperature"
   ]
  },
  {
   "cell_type": "markdown",
   "id": "a9ee833d-9031-47dc-be6a-c655dcfc436a",
   "metadata": {},
   "source": [
    "4. Ratio scale data - difference and ratio are measurable and have 0 starti ng point like marital status"
   ]
  },
  {
   "cell_type": "markdown",
   "id": "0820199f-5c92-44aa-b439-b937007c5523",
   "metadata": {},
   "source": [
    "#### Q6. Why is it important to understand the level of measurement when analyzing data? Provide an example to illustrate your answer.\n"
   ]
  },
  {
   "cell_type": "markdown",
   "id": "219decc2-f870-442c-8629-7882caff5204",
   "metadata": {},
   "source": [
    "knowing the level of measurement helps you decide how to interpret the data from that variable. When you know that a measure is nominal (like the one just described), then you know that the numerical values are just short codes for the longer names. Second, knowing the level of measurement helps you decide what statistical analysis is appropriate on the values that were assigned. If a measure is nominal, then you know that you would never average the data values or do a t-test on the data."
   ]
  },
  {
   "cell_type": "markdown",
   "id": "1a138880-11bd-48d8-91a2-b3b14975464e",
   "metadata": {},
   "source": [
    "#### Q7. How nominal data type is different from ordinal data type."
   ]
  },
  {
   "cell_type": "markdown",
   "id": "0fd69991-b647-44af-96d8-ae97a7460677",
   "metadata": {},
   "source": [
    "In nominal ranking and orders does not matter but in ordinal ranking and orders matter."
   ]
  },
  {
   "cell_type": "markdown",
   "id": "4c4abdc7-d280-4de6-9340-f00cbd3102f4",
   "metadata": {},
   "source": [
    "#### Q8. Which type of plot can be used to display data in terms of range?"
   ]
  },
  {
   "cell_type": "markdown",
   "id": "41622768-d3bd-408c-a7c1-5e9c11797e6b",
   "metadata": {},
   "source": [
    "Histogram"
   ]
  },
  {
   "cell_type": "markdown",
   "id": "133f2952-21c9-437b-b3a7-3af0406ea5c8",
   "metadata": {},
   "source": [
    "#### Q9. Describe the difference between descriptive and inferential statistics. Give an example of each type of statistics and explain how they are used.\n"
   ]
  },
  {
   "cell_type": "markdown",
   "id": "59e0f8cf-e7ba-4c7c-a6aa-5d1a365247e9",
   "metadata": {},
   "source": [
    "1. Descriptive statistics - It consists of organizing and summarizing the data like measurement of central tendency, histogram, barchat\n",
    "\n",
    "2. Influential statistics - It consists of using the data yoy have measured to form conclusion like finding of heights of students of given class\n",
    "\n"
   ]
  },
  {
   "cell_type": "markdown",
   "id": "d3a8b2e5-f94e-41a1-8990-dbbed026cad4",
   "metadata": {},
   "source": [
    "#### Q10. What are some common measures of central tendency and variability used in statistics? Explain how each measure can be used to describe a dataset.\n"
   ]
  },
  {
   "cell_type": "markdown",
   "id": "c21ef189-16cf-46ac-93f2-cb800d96fb2f",
   "metadata": {},
   "source": [
    "Median and mode\n",
    "\n",
    "Median - “middle value” or the average of “middle two values” in a data set when the numbers are arranged in an order\n",
    "\n",
    "Mode - value that occurs with greatest frequenc"
   ]
  },
  {
   "cell_type": "code",
   "execution_count": null,
   "id": "cf1621b8-abf5-4a1f-951f-d967d831977e",
   "metadata": {},
   "outputs": [],
   "source": []
  }
 ],
 "metadata": {
  "kernelspec": {
   "display_name": "Python 3 (ipykernel)",
   "language": "python",
   "name": "python3"
  },
  "language_info": {
   "codemirror_mode": {
    "name": "ipython",
    "version": 3
   },
   "file_extension": ".py",
   "mimetype": "text/x-python",
   "name": "python",
   "nbconvert_exporter": "python",
   "pygments_lexer": "ipython3",
   "version": "3.10.8"
  }
 },
 "nbformat": 4,
 "nbformat_minor": 5
}
