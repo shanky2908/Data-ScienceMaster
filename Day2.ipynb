{
 "cells": [
  {
   "cell_type": "code",
   "execution_count": 1,
   "id": "44b32fee-2e6e-43c4-8e0a-1299c0383c29",
   "metadata": {},
   "outputs": [
    {
     "name": "stdout",
     "output_type": "stream",
     "text": [
      "my age is: 32\n"
     ]
    }
   ],
   "source": [
    "age=32\n",
    "print(\"my age is:\", age)"
   ]
  },
  {
   "cell_type": "code",
   "execution_count": 2,
   "id": "3a263f3e-742f-41e5-901b-9cb9fe331f4a",
   "metadata": {},
   "outputs": [
    {
     "name": "stdout",
     "output_type": "stream",
     "text": [
      "my age is: {age}\n"
     ]
    }
   ],
   "source": [
    "age=32\n",
    "print(\"my age is: {age}\")"
   ]
  },
  {
   "cell_type": "code",
   "execution_count": 3,
   "id": "d375b366-b174-4308-85f8-d2688b47b5d4",
   "metadata": {},
   "outputs": [
    {
     "name": "stdout",
     "output_type": "stream",
     "text": [
      "my age is: 32\n"
     ]
    }
   ],
   "source": [
    "###fstring used for formatting of string\n",
    "age=32\n",
    "print(f\"my age is: {age}\")"
   ]
  },
  {
   "cell_type": "code",
   "execution_count": 5,
   "id": "891b7e08-496b-4ac7-be28-088a860feae5",
   "metadata": {},
   "outputs": [
    {
     "name": "stdout",
     "output_type": "stream",
     "text": [
      "my age is 28,I have Btech degree and myanme is Shashank\n"
     ]
    }
   ],
   "source": [
    "###format\n",
    "age=28\n",
    "name=\"Shashank\"\n",
    "degree=\"Btech\"\n",
    "print(\"my age is {a},I have {d} degree and myanme is {n}\".format(a=age,d=degree,n=name))"
   ]
  },
  {
   "cell_type": "markdown",
   "id": "516e97a9-290e-403b-ad37-c80740e7700a",
   "metadata": {},
   "source": [
    "###TAsk1 "
   ]
  },
  {
   "cell_type": "code",
   "execution_count": 4,
   "id": "8cf01b53-31f6-4b34-b2b0-f49f893ccdf6",
   "metadata": {},
   "outputs": [
    {
     "name": "stdin",
     "output_type": "stream",
     "text": [
      "enter your age 23\n"
     ]
    },
    {
     "name": "stdout",
     "output_type": "stream",
     "text": [
      "you are young blood\n"
     ]
    }
   ],
   "source": [
    "age=int(input(\"enter your age\"))\n",
    "if age>=18 and age<=45:\n",
    "    print(\"you are young blood\")\n",
    "else:\n",
    "    print(\"you are not eligible\")"
   ]
  },
  {
   "cell_type": "markdown",
   "id": "32bc7ea9-13d4-4cd0-b1a8-aa3bd2392ad0",
   "metadata": {},
   "source": [
    "##Loop Statment\n",
    "while loop\n",
    "for loop\n",
    "nested loop\n",
    "loop control\n"
   ]
  },
  {
   "cell_type": "markdown",
   "id": "239f108c-f3fb-4432-baf9-b698d7271ea3",
   "metadata": {},
   "source": [
    "#Pattern"
   ]
  },
  {
   "cell_type": "code",
   "execution_count": 9,
   "id": "b66b2711-010d-4429-a4cb-8f5db7200ec5",
   "metadata": {},
   "outputs": [
    {
     "name": "stdout",
     "output_type": "stream",
     "text": [
      "*\n",
      "**\n",
      "***\n",
      "****\n",
      "*****\n"
     ]
    }
   ],
   "source": [
    "n=5\n",
    "\n",
    "for i in range(0,n):\n",
    "    for j in range(0,i+1):\n",
    "        print(\"*\", end=\"\")\n",
    "    print(\"\\r\")\n",
    "  "
   ]
  },
  {
   "cell_type": "markdown",
   "id": "e8b4adce-d806-4055-84c8-5933b8ca6563",
   "metadata": {},
   "source": [
    "#Pattern2"
   ]
  },
  {
   "cell_type": "markdown",
   "id": "a5abdc8a-a044-4e7e-9eb3-5611c55a2b4c",
   "metadata": {},
   "source": [
    "#Break continue and pass\n",
    "\n"
   ]
  },
  {
   "cell_type": "code",
   "execution_count": 10,
   "id": "867c5b9e-6a4d-41f6-860f-843312a3ff4c",
   "metadata": {},
   "outputs": [
    {
     "name": "stdout",
     "output_type": "stream",
     "text": [
      "apple\n",
      "berry\n",
      "the fruit is cherry\n"
     ]
    }
   ],
   "source": [
    "fruit = [\"apple\",\"berry\",\"cherry\",\"dhaniya\",\"egg\"]\n",
    "\n",
    "for i in fruit:\n",
    "    if i==\"cherry\":\n",
    "        print(\"the fruit is cherry\")\n",
    "        break\n",
    "    print(i)"
   ]
  },
  {
   "cell_type": "code",
   "execution_count": null,
   "id": "796e1c43-bc2b-4f9e-971b-2d508da499e1",
   "metadata": {},
   "outputs": [],
   "source": []
  },
  {
   "cell_type": "code",
   "execution_count": null,
   "id": "b43923d2-d9e5-4427-b8ae-7ca2d933c31e",
   "metadata": {},
   "outputs": [],
   "source": []
  }
 ],
 "metadata": {
  "kernelspec": {
   "display_name": "Python 3 (ipykernel)",
   "language": "python",
   "name": "python3"
  },
  "language_info": {
   "codemirror_mode": {
    "name": "ipython",
    "version": 3
   },
   "file_extension": ".py",
   "mimetype": "text/x-python",
   "name": "python",
   "nbconvert_exporter": "python",
   "pygments_lexer": "ipython3",
   "version": "3.10.8"
  }
 },
 "nbformat": 4,
 "nbformat_minor": 5
}
