{
 "cells": [
  {
   "cell_type": "markdown",
   "id": "69b5faae-6733-4e8a-a244-1951d963bc8e",
   "metadata": {},
   "source": [
    "## 02 Feb Assignment"
   ]
  },
  {
   "cell_type": "markdown",
   "id": "0e1d7455-3a2e-4a1c-a3df-d1f9799ab606",
   "metadata": {},
   "source": [
    "### Q1. What are the characteristics of the tuples? Is tuple immutable?"
   ]
  },
  {
   "cell_type": "markdown",
   "id": "faaabbef-f051-4694-8f4f-910efd9d15f3",
   "metadata": {},
   "source": [
    "ans. tuples are used to store multiple items in single variable, it is ordered and unchangeble and it is written with round bracket"
   ]
  },
  {
   "cell_type": "markdown",
   "id": "c05fba19-41a3-4144-8d13-73d128084bff",
   "metadata": {},
   "source": [
    "    yes tuple is immutable"
   ]
  },
  {
   "cell_type": "markdown",
   "id": "f2f9a4fa-e89f-475b-8706-27157341da78",
   "metadata": {},
   "source": [
    "### Q2. What are the two tuple methods in python? Give an example of each method. Give a reason why tuples have only two in-built methods as compared to Lists.\n"
   ]
  },
  {
   "cell_type": "markdown",
   "id": "bf5c59e2-213b-4210-9aea-132233e4cbe8",
   "metadata": {},
   "source": [
    "count() - it will give the count of the specific varible occured in tuple"
   ]
  },
  {
   "cell_type": "code",
   "execution_count": 1,
   "id": "29e185ca-86f7-4b28-9e09-9e7b7e215ac5",
   "metadata": {},
   "outputs": [],
   "source": [
    "t1 = (12,'shashank', 345, 23.4, 12, 12)\n"
   ]
  },
  {
   "cell_type": "code",
   "execution_count": 2,
   "id": "e1ef7f00-c3e0-4cf2-906c-f8e54ad402bf",
   "metadata": {},
   "outputs": [
    {
     "data": {
      "text/plain": [
       "3"
      ]
     },
     "execution_count": 2,
     "metadata": {},
     "output_type": "execute_result"
    }
   ],
   "source": [
    "t1.count(12)"
   ]
  },
  {
   "cell_type": "markdown",
   "id": "32b782f7-f69f-4b8e-9557-0fb84c4ddd73",
   "metadata": {},
   "source": [
    "index() - it return the position of specific value in the tuple"
   ]
  },
  {
   "cell_type": "code",
   "execution_count": 3,
   "id": "c5e6bc2c-4648-4946-9c5e-ee80c2689642",
   "metadata": {},
   "outputs": [
    {
     "data": {
      "text/plain": [
       "2"
      ]
     },
     "execution_count": 3,
     "metadata": {},
     "output_type": "execute_result"
    }
   ],
   "source": [
    "t1.index(345)"
   ]
  },
  {
   "cell_type": "markdown",
   "id": "3bec7d72-fd2e-4ac2-87dd-f1a0ce588cbf",
   "metadata": {},
   "source": [
    "tuple are immutable i.e., it has only two built in function"
   ]
  },
  {
   "cell_type": "markdown",
   "id": "360a4df4-ff4d-47de-b261-eb385e6bd805",
   "metadata": {},
   "source": [
    "### 3.Which collection datatypes in python do not allow duplicate items? Write a code using a set to remove duplicates from the given list.\n",
    "\n",
    "\n",
    "\n"
   ]
  },
  {
   "cell_type": "code",
   "execution_count": 4,
   "id": "a816c38c-5b0a-49cc-adb4-c6d7be36089d",
   "metadata": {},
   "outputs": [],
   "source": [
    "List = [1, 1, 1, 2, 1, 3, 1, 4, 2, 1, 2, 2, 2, 3, 2, 4, 3, 1, 3, 2, 3, 3, 3, 4, 4, 1, 4, 2, 4, 3, 4, 4]"
   ]
  },
  {
   "cell_type": "markdown",
   "id": "4408b0c8-c1ff-4999-8e74-607cd60b5bf3",
   "metadata": {},
   "source": [
    "set is the collection datatypes which do not allow duplicate value"
   ]
  },
  {
   "cell_type": "code",
   "execution_count": 5,
   "id": "c038c3da-0baf-4b1a-8f6e-fdeb66ec0bea",
   "metadata": {},
   "outputs": [
    {
     "data": {
      "text/plain": [
       "{1, 2, 3, 4}"
      ]
     },
     "execution_count": 5,
     "metadata": {},
     "output_type": "execute_result"
    }
   ],
   "source": [
    "set(List)"
   ]
  },
  {
   "cell_type": "markdown",
   "id": "7662dcb9-43b3-475a-91dc-6a350547060e",
   "metadata": {},
   "source": [
    "### Q4. Explain the difference between the union() and update() methods for a set. Give an example of each method.\n"
   ]
  },
  {
   "cell_type": "markdown",
   "id": "361a6313-cb18-4839-82fb-b21ccce3a7a9",
   "metadata": {},
   "source": [
    "ans. union() for set return the unique value for all sets, duplicate will be executed"
   ]
  },
  {
   "cell_type": "code",
   "execution_count": 11,
   "id": "cdace577-48e6-4665-8dc6-839f447acf17",
   "metadata": {},
   "outputs": [],
   "source": [
    "set1 = {12,45,'sha','qwe'}\n",
    "set2 = {45, 'sha', 23, \"wer\"}"
   ]
  },
  {
   "cell_type": "code",
   "execution_count": 12,
   "id": "aa71a992-f166-466a-b919-ce6388b89781",
   "metadata": {},
   "outputs": [
    {
     "name": "stdout",
     "output_type": "stream",
     "text": [
      "{'qwe', 12, 45, 23, 'wer', 'sha'}\n"
     ]
    }
   ],
   "source": [
    "set3 = set1.union(set2)\n",
    "print(set3)"
   ]
  },
  {
   "cell_type": "markdown",
   "id": "171d610e-18b3-4a4c-b2e9-df462cb0eb94",
   "metadata": {},
   "source": [
    "update() - it will update current set by adding elements of another set and will exclude the duplicate"
   ]
  },
  {
   "cell_type": "code",
   "execution_count": 14,
   "id": "38ef3bc3-7d33-4504-97b7-0b5acbba8e73",
   "metadata": {},
   "outputs": [
    {
     "name": "stdout",
     "output_type": "stream",
     "text": [
      "{'qwe', 12, 45, 23, 'wer', 'sha'}\n"
     ]
    }
   ],
   "source": [
    "a= set1\n",
    "a.update(set2)\n",
    "print(a)\n"
   ]
  },
  {
   "cell_type": "markdown",
   "id": "2fe91439-a6a3-4ae8-8b3b-e18b14229d63",
   "metadata": {},
   "source": [
    "### Q5. What is a dictionary? Give an example. Also, state whether a dictionary is ordered or unordered."
   ]
  },
  {
   "cell_type": "markdown",
   "id": "6a840de4-dffd-4f95-9741-25a19a0dec17",
   "metadata": {},
   "source": [
    "ans. dictionary is used to store the data in key and values pair. And it is ordered"
   ]
  },
  {
   "cell_type": "markdown",
   "id": "953462a7-72da-4eab-8f23-653e0cc62212",
   "metadata": {},
   "source": [
    "### Q6. Can we create a nested dictionary? If so, please give an example by creating a simple one-level nested dictionary.\n"
   ]
  },
  {
   "cell_type": "markdown",
   "id": "d7a9d4ce-201a-46d1-a672-973e632fa6d8",
   "metadata": {},
   "source": [
    "ans. Yes we can create nested dictionary"
   ]
  },
  {
   "cell_type": "code",
   "execution_count": 17,
   "id": "9229d7aa-ca06-4aed-b417-305a7b17c0d6",
   "metadata": {},
   "outputs": [],
   "source": [
    "d1 = {'shashank' : {'age': 27, 'gender': 'male'}}"
   ]
  },
  {
   "cell_type": "markdown",
   "id": "5ff9aefc-d80e-47f6-93d7-fd4028b4c0dc",
   "metadata": {},
   "source": [
    "### Q7. Using setdefault() method, create key named topics in the given dictionary and also add the value of the key as this list ['Python', 'Machine Learning’, 'Deep Learning']\n"
   ]
  },
  {
   "cell_type": "code",
   "execution_count": 18,
   "id": "8988586a-bdd6-4a92-89f2-070d6fed0d25",
   "metadata": {},
   "outputs": [],
   "source": [
    "dict1 = {'language' : 'Python', 'course': 'Data Science Masters'}"
   ]
  },
  {
   "cell_type": "code",
   "execution_count": 19,
   "id": "70efa2b6-8f8a-4927-833b-abfa845b491e",
   "metadata": {},
   "outputs": [],
   "source": [
    "dict2 = dict1.setdefault('topics',['Python','Machine Lerning', 'Deep Learning'])"
   ]
  },
  {
   "cell_type": "code",
   "execution_count": 20,
   "id": "02a8dc25-d118-4033-905d-ce942b6b402f",
   "metadata": {},
   "outputs": [
    {
     "name": "stdout",
     "output_type": "stream",
     "text": [
      "['Python', 'Machine Lerning', 'Deep Learning']\n"
     ]
    }
   ],
   "source": [
    "print(dict2)"
   ]
  },
  {
   "cell_type": "markdown",
   "id": "3be5e7f8-be04-4db9-9fde-1e7f5e4224f2",
   "metadata": {},
   "source": [
    "### Q8. What are the three view objects in dictionaries? Use the three in-built methods in python to display these three view objects for the given dictionary.\n"
   ]
  },
  {
   "cell_type": "code",
   "execution_count": 2,
   "id": "47b2d134-2592-448c-ab52-a499880165bc",
   "metadata": {},
   "outputs": [],
   "source": [
    "dict7 = {'Sport': 'Cricket' , 'Teams': ['India', 'Australia', 'England', 'South Africa', 'Sri Lanka', 'New Zealand']}"
   ]
  },
  {
   "cell_type": "markdown",
   "id": "16efffba-55be-48dc-9aa4-6d6158c2a776",
   "metadata": {},
   "source": [
    "ans. keys, values and items are the three view objects in dictionaries"
   ]
  },
  {
   "cell_type": "code",
   "execution_count": 5,
   "id": "7557f3aa-9fe8-45df-b487-3d8369d87062",
   "metadata": {},
   "outputs": [
    {
     "name": "stdout",
     "output_type": "stream",
     "text": [
      "dict_keys(['Sport', 'Teams'])\n"
     ]
    }
   ],
   "source": [
    "a=dict7.keys()\n",
    "print(a)"
   ]
  },
  {
   "cell_type": "code",
   "execution_count": 6,
   "id": "93022f0c-9cef-43a3-aef3-6e61af6c7fda",
   "metadata": {},
   "outputs": [
    {
     "name": "stdout",
     "output_type": "stream",
     "text": [
      "dict_values(['Cricket', ['India', 'Australia', 'England', 'South Africa', 'Sri Lanka', 'New Zealand']])\n"
     ]
    }
   ],
   "source": [
    "b=dict7.values()\n",
    "print(b)"
   ]
  },
  {
   "cell_type": "code",
   "execution_count": 7,
   "id": "02ab4c5c-2c76-4cb0-bee8-cdfabe09754b",
   "metadata": {},
   "outputs": [
    {
     "name": "stdout",
     "output_type": "stream",
     "text": [
      "dict_items([('Sport', 'Cricket'), ('Teams', ['India', 'Australia', 'England', 'South Africa', 'Sri Lanka', 'New Zealand'])])\n"
     ]
    }
   ],
   "source": [
    "c=dict7.items()\n",
    "print(c)"
   ]
  },
  {
   "cell_type": "code",
   "execution_count": null,
   "id": "84d5a387-5674-4977-9383-12c49a97f726",
   "metadata": {},
   "outputs": [],
   "source": []
  }
 ],
 "metadata": {
  "kernelspec": {
   "display_name": "Python 3 (ipykernel)",
   "language": "python",
   "name": "python3"
  },
  "language_info": {
   "codemirror_mode": {
    "name": "ipython",
    "version": 3
   },
   "file_extension": ".py",
   "mimetype": "text/x-python",
   "name": "python",
   "nbconvert_exporter": "python",
   "pygments_lexer": "ipython3",
   "version": "3.10.8"
  }
 },
 "nbformat": 4,
 "nbformat_minor": 5
}
