{
 "cells": [
  {
   "cell_type": "markdown",
   "id": "cd786439-a730-4aa8-8f2e-e1999901a1c5",
   "metadata": {},
   "source": [
    "# Introduction to Machine Learning-1\n"
   ]
  },
  {
   "cell_type": "markdown",
   "id": "27437c12-6d00-47d2-9fd7-1077528a2ed9",
   "metadata": {},
   "source": [
    "## Assignment"
   ]
  },
  {
   "cell_type": "markdown",
   "id": "55be8f65-831c-4191-bce5-6d967ec57475",
   "metadata": {},
   "source": [
    "### Explain the following with an example"
   ]
  },
  {
   "cell_type": "markdown",
   "id": "8a9a976d-bb4b-47fa-9f5b-3a3bd96fc711",
   "metadata": {},
   "source": [
    " 1. Artifical Intelligence - Artificial intelligence is the ability of a computer or computer-controlled robot to perform tasks that are commonly associated with the intellectual processes characteristic of humans, such as the ability to reason.\n",
    " \n",
    " exa - Self driving car"
   ]
  },
  {
   "cell_type": "markdown",
   "id": "ca4bdbf1-5eb1-40bf-9fef-ed73f0fe028a",
   "metadata": {},
   "source": [
    " 2. Machine Learning - Machine learning is a subfield of artificial intelligence that uses algorithms trained on data sets to create models that enable machines to perform tasks that would otherwise only be possible for humans, such as categorizing images, analyzing data, or predicting price fluctuations.\n",
    " \n",
    " exa - Spotify , Netflix"
   ]
  },
  {
   "cell_type": "markdown",
   "id": "e3baf333-d3bc-4c2b-985a-fb53f3967026",
   "metadata": {},
   "source": [
    " 3. Deep Learning - Deep learning is a method that trains computers to process information in a way that mimics human neural processes.\n",
    " \n",
    " exa - Chatbots"
   ]
  },
  {
   "cell_type": "markdown",
   "id": "20b77363-dcc4-40c4-aa2a-f3b06e68f8f5",
   "metadata": {},
   "source": [
    "Q2.  What is supervisKd learning? List some examples of supervised learning?"
   ]
  },
  {
   "cell_type": "markdown",
   "id": "130b0c04-eaa6-413d-b678-91d5aeccbab1",
   "metadata": {},
   "source": [
    "ans. Supervised learning is a type of machine learning in which a computer algorithm learns to make predictions or decisions based on labeled data. Labeled data is made up of previously known input variables (also known as features) and output variables (also known as labels). By analyzing patterns and relationships between input and output variables in labeled data, the algorithm learns to make predictions\n",
    "\n",
    "exa - Email filtering"
   ]
  },
  {
   "cell_type": "markdown",
   "id": "c32ee9e3-35bb-4433-9c4c-2bfc98a08066",
   "metadata": {},
   "source": [
    "Q3. What is unsupervisKd learning? List some examples of unsupervised learning?"
   ]
  },
  {
   "cell_type": "markdown",
   "id": "9cae0c88-b8d1-4587-96a3-6743c5df079d",
   "metadata": {},
   "source": [
    "ans. Unsupervised learning is when it can provide a set of unlabelled data, which it is required to analyze and find patterns inside. The examples are dimension reduction and clustering"
   ]
  },
  {
   "cell_type": "markdown",
   "id": "049d2b37-1b53-4bbe-8857-9d45ede94fab",
   "metadata": {},
   "source": [
    "Q4. What is the difference between AI, ML, DL, and DS?"
   ]
  },
  {
   "cell_type": "markdown",
   "id": "c646e5ff-a836-4312-ac76-b8c9a5cb2fdd",
   "metadata": {},
   "source": [
    " ans Artificial Intelligence is a vast field and Machine Learning is a subset of Machine Learning and Deep Learning is subset of Machine Learning."
   ]
  },
  {
   "cell_type": "markdown",
   "id": "f803427b-a05c-44a0-ad5a-737be694aaf2",
   "metadata": {},
   "source": [
    "Q5. What are the main differences between supervised, unsupervised, and semi-supervised learning?"
   ]
  },
  {
   "cell_type": "markdown",
   "id": "6fb03fca-1a16-4b5a-818b-8c4a2594ade2",
   "metadata": {},
   "source": [
    "ans. Supervised learning is a problem with labeled data, expecting to develop predictive capability. Unsupervised learning is discovering process, diving into unlabeled data to capture hidden information. Semi-supervised learning is a blend of supervised and unsupervised learning"
   ]
  },
  {
   "cell_type": "markdown",
   "id": "09002e54-131c-48a5-89e9-ae6daf80c863",
   "metadata": {},
   "source": [
    "Q6. What is train, test and validation split? Explain the importance of each term."
   ]
  },
  {
   "cell_type": "markdown",
   "id": "682329f1-6712-454b-975c-e62d918d4bce",
   "metadata": {},
   "source": [
    "ans. Train Test Validation Split helps in understanding the bias trade-off. The training set provides information about the model's bias, capturing inherent patterns, while the validation and testing sets help assess variance, indicating the model's sensitivity to fluctuations in the dataset"
   ]
  },
  {
   "cell_type": "markdown",
   "id": "c96653e3-8f54-4323-b26a-cd3e2b11bf3f",
   "metadata": {},
   "source": [
    "Q7.   How can unsupervised learning be used in anomaly detection?"
   ]
  },
  {
   "cell_type": "markdown",
   "id": "e59816d4-606a-47ed-8c9a-7e754ce91632",
   "metadata": {},
   "source": [
    "ans. Anomaly detection techniques of unsupervised nature assume that normal data points occur considerably more frequently than anomalous data points. This assumption is used to classify data points that occur less frequently as anomalies. Unsupervised techniques assign each data point a score instead of a labe"
   ]
  },
  {
   "cell_type": "markdown",
   "id": "be2f264c-15a8-41d3-879c-b5791a7b7226",
   "metadata": {},
   "source": [
    "Q8.  List down some commonly used supervised learning algorithms and unsupervised learning\n",
    "algorithms.\n"
   ]
  },
  {
   "cell_type": "markdown",
   "id": "307a86eb-cbfc-45d9-98b2-37cbd0f83d88",
   "metadata": {},
   "source": [
    "ans. The most commonly used Supervised Learning algorithms are decision tree, logistic regression, linear regression, support vector machine. The most commonly used Unsupervised Learning algorithms are k-means clustering, hierarchical clustering, and apriori algorithm"
   ]
  },
  {
   "cell_type": "code",
   "execution_count": null,
   "id": "c1297df3-9fd0-4197-b110-a750bf22062c",
   "metadata": {},
   "outputs": [],
   "source": []
  }
 ],
 "metadata": {
  "kernelspec": {
   "display_name": "Python 3 (ipykernel)",
   "language": "python",
   "name": "python3"
  },
  "language_info": {
   "codemirror_mode": {
    "name": "ipython",
    "version": 3
   },
   "file_extension": ".py",
   "mimetype": "text/x-python",
   "name": "python",
   "nbconvert_exporter": "python",
   "pygments_lexer": "ipython3",
   "version": "3.10.8"
  }
 },
 "nbformat": 4,
 "nbformat_minor": 5
}
