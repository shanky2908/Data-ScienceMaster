{
 "cells": [
  {
   "cell_type": "markdown",
   "id": "42913b0a-760b-4c74-8da8-d7c47f6bfb19",
   "metadata": {},
   "source": [
    "# Nampy Basic Assignment"
   ]
  },
  {
   "cell_type": "code",
   "execution_count": 2,
   "id": "7e73558b-1075-43da-b81e-2e52eb5eb4a9",
   "metadata": {},
   "outputs": [],
   "source": [
    "import numpy as np\n",
    "\n",
    "list_ = [ '1' , '2' , '3' , '4' , '5' ]\n",
    "\n",
    "array_list = np.array(object = list_)"
   ]
  },
  {
   "cell_type": "markdown",
   "id": "ffd5eb72-96fc-4b8c-a4d1-9d29cecba381",
   "metadata": {},
   "source": [
    "### Q1. Is there any difference in the data type of variables list_ and array_list? If there is then write a code to print the data types of both the variables.\n"
   ]
  },
  {
   "cell_type": "code",
   "execution_count": 3,
   "id": "711cff8c-30ea-4aca-8790-f3fd80f77783",
   "metadata": {},
   "outputs": [
    {
     "data": {
      "text/plain": [
       "list"
      ]
     },
     "execution_count": 3,
     "metadata": {},
     "output_type": "execute_result"
    }
   ],
   "source": [
    "type(list_)"
   ]
  },
  {
   "cell_type": "code",
   "execution_count": 4,
   "id": "c6d0eb06-f67d-431e-a382-ed46a45af4cc",
   "metadata": {},
   "outputs": [
    {
     "data": {
      "text/plain": [
       "numpy.ndarray"
      ]
     },
     "execution_count": 4,
     "metadata": {},
     "output_type": "execute_result"
    }
   ],
   "source": [
    "type(array_list)"
   ]
  },
  {
   "cell_type": "markdown",
   "id": "c0bc68f7-14f7-4d56-baaf-1447da541fdd",
   "metadata": {},
   "source": [
    "### Q2. Write a code to print the data type of each and every element of both the variables list_ and arra_list.\n"
   ]
  },
  {
   "cell_type": "code",
   "execution_count": 5,
   "id": "ed021633-829a-4179-88b1-db0331893104",
   "metadata": {},
   "outputs": [],
   "source": [
    "list_ = [ 1 , '2' , 'Shashank' , [1,2] , 'shambhu' ]"
   ]
  },
  {
   "cell_type": "code",
   "execution_count": 9,
   "id": "6c5dc84a-7f22-4070-bdad-be1ff27adb12",
   "metadata": {},
   "outputs": [
    {
     "name": "stdout",
     "output_type": "stream",
     "text": [
      "<class 'int'>\n",
      "<class 'str'>\n",
      "<class 'str'>\n",
      "<class 'list'>\n",
      "<class 'str'>\n"
     ]
    }
   ],
   "source": [
    "for item in list_:\n",
    "    print (type(item))\n"
   ]
  },
  {
   "cell_type": "code",
   "execution_count": 12,
   "id": "a443c324-8abf-4f81-a930-40cd11a108e3",
   "metadata": {},
   "outputs": [],
   "source": [
    "l = [1,2,45,23,34]\n",
    "arra_list = np.array(l)"
   ]
  },
  {
   "cell_type": "code",
   "execution_count": 13,
   "id": "560f95c5-22b1-403c-a5d9-a32a503603dd",
   "metadata": {},
   "outputs": [
    {
     "name": "stdout",
     "output_type": "stream",
     "text": [
      "<class 'numpy.int64'>\n",
      "<class 'numpy.int64'>\n",
      "<class 'numpy.int64'>\n",
      "<class 'numpy.int64'>\n",
      "<class 'numpy.int64'>\n"
     ]
    }
   ],
   "source": [
    "for item in arra_list:\n",
    "    print (type(item))"
   ]
  },
  {
   "cell_type": "markdown",
   "id": "d50fac88-4bd7-4aef-b5e2-929a6dfa48cd",
   "metadata": {},
   "source": [
    "### Q3. Considering the following changes in the variable, array_list:\n",
    "\n",
    "array_list = np.array(object = list_, dtype = int)\n",
    "\n",
    "Will there be any difference in the data type of the elements present in both the variables, list_ and\n",
    "arra_list? If so then print the data types of each and every element present in both the variables, list_\n",
    "and arra_list."
   ]
  },
  {
   "cell_type": "code",
   "execution_count": 15,
   "id": "07337bb1-f800-4e9d-8144-e00675ee33af",
   "metadata": {},
   "outputs": [],
   "source": [
    "array_list = np.array(object = l, dtype = int)"
   ]
  },
  {
   "cell_type": "code",
   "execution_count": 16,
   "id": "2c2603df-f460-4b10-b82b-a713c8e175c5",
   "metadata": {},
   "outputs": [
    {
     "name": "stdout",
     "output_type": "stream",
     "text": [
      "<class 'int'>\n",
      "<class 'int'>\n",
      "<class 'int'>\n",
      "<class 'int'>\n",
      "<class 'int'>\n"
     ]
    }
   ],
   "source": [
    "for item in l:\n",
    "    print (type(item))"
   ]
  },
  {
   "cell_type": "code",
   "execution_count": 17,
   "id": "f439b914-21ed-4ab3-8bce-bbcc2fff6a29",
   "metadata": {},
   "outputs": [
    {
     "name": "stdout",
     "output_type": "stream",
     "text": [
      "<class 'numpy.int64'>\n",
      "<class 'numpy.int64'>\n",
      "<class 'numpy.int64'>\n",
      "<class 'numpy.int64'>\n",
      "<class 'numpy.int64'>\n"
     ]
    }
   ],
   "source": [
    "for item in array_list:\n",
    "    print (type(item))"
   ]
  },
  {
   "cell_type": "markdown",
   "id": "65860bab-da65-46f9-9697-0eb49372465d",
   "metadata": {},
   "source": [
    " Consider the below code to answer further questions:\n",
    "\n",
    "import numpy as np\n",
    "\n",
    "num_list = [ [ 1 , 2 , 3 ] , [ 4 , 5 , 6 ] ]\n",
    "\n",
    "num_array = np.array(object = num_list)\n",
    "### Q4. Write a code to find the following characteristics of variable, num_array:\n",
    "\n",
    "(i)\t shape\n",
    "\n",
    "(ii) size"
   ]
  },
  {
   "cell_type": "code",
   "execution_count": 18,
   "id": "fc132f58-0ab3-4d79-a610-95215e45fdbb",
   "metadata": {},
   "outputs": [],
   "source": [
    "import numpy as np\n",
    "\n",
    "num_list = [ [ 1 , 2 , 3 ] , [ 4 , 5 , 6 ] ]\n",
    "\n",
    "num_array = np.array(object = num_list)"
   ]
  },
  {
   "cell_type": "code",
   "execution_count": 19,
   "id": "f51d6eac-bcd4-4225-b2e9-c10c8b147689",
   "metadata": {},
   "outputs": [
    {
     "data": {
      "text/plain": [
       "array([[1, 2, 3],\n",
       "       [4, 5, 6]])"
      ]
     },
     "execution_count": 19,
     "metadata": {},
     "output_type": "execute_result"
    }
   ],
   "source": [
    "num_array"
   ]
  },
  {
   "cell_type": "code",
   "execution_count": 21,
   "id": "03cf8f19-2135-41de-8110-31208aa8d18b",
   "metadata": {},
   "outputs": [
    {
     "data": {
      "text/plain": [
       "(2, 3)"
      ]
     },
     "execution_count": 21,
     "metadata": {},
     "output_type": "execute_result"
    }
   ],
   "source": [
    "num_array.shape"
   ]
  },
  {
   "cell_type": "code",
   "execution_count": 22,
   "id": "86a6b838-a852-42bd-95c3-c809e94de9ed",
   "metadata": {},
   "outputs": [
    {
     "data": {
      "text/plain": [
       "6"
      ]
     },
     "execution_count": 22,
     "metadata": {},
     "output_type": "execute_result"
    }
   ],
   "source": [
    "num_array.size"
   ]
  },
  {
   "cell_type": "markdown",
   "id": "c3ab8db2-ab34-445a-b43e-22e03dba3ca6",
   "metadata": {},
   "source": [
    "### Q5. Write a code to create numpy array of 3*3 matrix containing zeros only, using a numpy array creation function.\n"
   ]
  },
  {
   "cell_type": "code",
   "execution_count": 23,
   "id": "d47fce4c-2726-4bb7-aeee-17a24df963c8",
   "metadata": {},
   "outputs": [
    {
     "data": {
      "text/plain": [
       "array([[0., 0., 0.],\n",
       "       [0., 0., 0.],\n",
       "       [0., 0., 0.]])"
      ]
     },
     "execution_count": 23,
     "metadata": {},
     "output_type": "execute_result"
    }
   ],
   "source": [
    "np.zeros([3,3])"
   ]
  },
  {
   "cell_type": "markdown",
   "id": "ced75e6f-2354-4cf3-847c-916b7fce07be",
   "metadata": {},
   "source": [
    "### Q6. Create an identity matrix of shape (5,5) using numpy functions?"
   ]
  },
  {
   "cell_type": "code",
   "execution_count": 24,
   "id": "8b4bb31a-a0fc-417f-b65a-0a0781607687",
   "metadata": {},
   "outputs": [
    {
     "data": {
      "text/plain": [
       "array([[1., 1., 1., 1., 1.],\n",
       "       [1., 1., 1., 1., 1.],\n",
       "       [1., 1., 1., 1., 1.],\n",
       "       [1., 1., 1., 1., 1.],\n",
       "       [1., 1., 1., 1., 1.]])"
      ]
     },
     "execution_count": 24,
     "metadata": {},
     "output_type": "execute_result"
    }
   ],
   "source": [
    "np.ones([5,5])"
   ]
  },
  {
   "cell_type": "code",
   "execution_count": null,
   "id": "2210b463-7599-4a99-aea7-0dddc160292e",
   "metadata": {},
   "outputs": [],
   "source": []
  }
 ],
 "metadata": {
  "kernelspec": {
   "display_name": "Python 3 (ipykernel)",
   "language": "python",
   "name": "python3"
  },
  "language_info": {
   "codemirror_mode": {
    "name": "ipython",
    "version": 3
   },
   "file_extension": ".py",
   "mimetype": "text/x-python",
   "name": "python",
   "nbconvert_exporter": "python",
   "pygments_lexer": "ipython3",
   "version": "3.10.8"
  }
 },
 "nbformat": 4,
 "nbformat_minor": 5
}
