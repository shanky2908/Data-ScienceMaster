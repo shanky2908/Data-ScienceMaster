{
 "cells": [
  {
   "cell_type": "markdown",
   "id": "93b7ecad-67b5-41e2-9585-508cf21beb3a",
   "metadata": {},
   "source": [
    "## this is for practce"
   ]
  },
  {
   "cell_type": "markdown",
   "id": "dd20103b-4d7d-4cec-a0d2-17267e835f2d",
   "metadata": {},
   "source": [
    "### Topic 1"
   ]
  },
  {
   "cell_type": "code",
   "execution_count": 5,
   "id": "454573a1-8342-4d00-81ca-13d94d628fa6",
   "metadata": {},
   "outputs": [
    {
     "data": {
      "text/plain": [
       "4"
      ]
     },
     "execution_count": 5,
     "metadata": {},
     "output_type": "execute_result"
    }
   ],
   "source": [
    "1+3"
   ]
  },
  {
   "cell_type": "code",
   "execution_count": 9,
   "id": "fbc30d43-5b8b-4838-96fe-9614cf8f4f9f",
   "metadata": {},
   "outputs": [
    {
     "name": "stdout",
     "output_type": "stream",
     "text": [
      "4\n"
     ]
    }
   ],
   "source": [
    "print(1+3)"
   ]
  },
  {
   "cell_type": "markdown",
   "id": "056675b6-1d53-48a9-8f7f-ff6deaa7dbae",
   "metadata": {},
   "source": [
    "###dyanmic typing"
   ]
  },
  {
   "cell_type": "code",
   "execution_count": 10,
   "id": "a7f779ea-8c8b-427d-8fcc-11282ec24688",
   "metadata": {},
   "outputs": [],
   "source": [
    "a=12\n",
    "asd=\"jbcjhbsc\"\n"
   ]
  },
  {
   "cell_type": "code",
   "execution_count": 11,
   "id": "1aa4efcd-7a95-46ce-9790-abf3150ce385",
   "metadata": {},
   "outputs": [
    {
     "data": {
      "text/plain": [
       "12"
      ]
     },
     "execution_count": 11,
     "metadata": {},
     "output_type": "execute_result"
    }
   ],
   "source": [
    "a"
   ]
  },
  {
   "cell_type": "code",
   "execution_count": 12,
   "id": "5ded08bf-dcea-42e0-9aa0-daccca66397c",
   "metadata": {},
   "outputs": [
    {
     "data": {
      "text/plain": [
       "'jbcjhbsc'"
      ]
     },
     "execution_count": 12,
     "metadata": {},
     "output_type": "execute_result"
    }
   ],
   "source": [
    "asd"
   ]
  },
  {
   "cell_type": "code",
   "execution_count": null,
   "id": "4692b030-c511-4b7e-a9b6-402efddd75ab",
   "metadata": {},
   "outputs": [],
   "source": []
  }
 ],
 "metadata": {
  "kernelspec": {
   "display_name": "Python 3 (ipykernel)",
   "language": "python",
   "name": "python3"
  },
  "language_info": {
   "codemirror_mode": {
    "name": "ipython",
    "version": 3
   },
   "file_extension": ".py",
   "mimetype": "text/x-python",
   "name": "python",
   "nbconvert_exporter": "python",
   "pygments_lexer": "ipython3",
   "version": "3.10.8"
  }
 },
 "nbformat": 4,
 "nbformat_minor": 5
}
